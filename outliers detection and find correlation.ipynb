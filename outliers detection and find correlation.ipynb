{
 "cells": [
  {
   "cell_type": "code",
   "execution_count": 1,
   "id": "dd302f9b",
   "metadata": {},
   "outputs": [],
   "source": [
    "import pandas as pd\n",
    "import numpy as np\n",
    "import matplotlib.pyplot as plt\n",
    "import seaborn as sns"
   ]
  },
  {
   "cell_type": "code",
   "execution_count": 2,
   "id": "3fdbff2a",
   "metadata": {},
   "outputs": [
    {
     "data": {
      "text/html": [
       "<div>\n",
       "<style scoped>\n",
       "    .dataframe tbody tr th:only-of-type {\n",
       "        vertical-align: middle;\n",
       "    }\n",
       "\n",
       "    .dataframe tbody tr th {\n",
       "        vertical-align: top;\n",
       "    }\n",
       "\n",
       "    .dataframe thead th {\n",
       "        text-align: right;\n",
       "    }\n",
       "</style>\n",
       "<table border=\"1\" class=\"dataframe\">\n",
       "  <thead>\n",
       "    <tr style=\"text-align: right;\">\n",
       "      <th></th>\n",
       "      <th>Seq No</th>\n",
       "      <th>intnum</th>\n",
       "      <th>persnum</th>\n",
       "      <th>age</th>\n",
       "      <th>educatn</th>\n",
       "      <th>earnings</th>\n",
       "      <th>hours</th>\n",
       "      <th>kids</th>\n",
       "      <th>married</th>\n",
       "    </tr>\n",
       "  </thead>\n",
       "  <tbody>\n",
       "    <tr>\n",
       "      <th>0</th>\n",
       "      <td>1</td>\n",
       "      <td>4</td>\n",
       "      <td>4</td>\n",
       "      <td>39</td>\n",
       "      <td>12.0</td>\n",
       "      <td>77250</td>\n",
       "      <td>2940</td>\n",
       "      <td>2</td>\n",
       "      <td>married</td>\n",
       "    </tr>\n",
       "    <tr>\n",
       "      <th>1</th>\n",
       "      <td>2</td>\n",
       "      <td>4</td>\n",
       "      <td>6</td>\n",
       "      <td>35</td>\n",
       "      <td>12.0</td>\n",
       "      <td>12000</td>\n",
       "      <td>2040</td>\n",
       "      <td>2</td>\n",
       "      <td>divorced</td>\n",
       "    </tr>\n",
       "    <tr>\n",
       "      <th>2</th>\n",
       "      <td>3</td>\n",
       "      <td>4</td>\n",
       "      <td>7</td>\n",
       "      <td>33</td>\n",
       "      <td>12.0</td>\n",
       "      <td>8000</td>\n",
       "      <td>693</td>\n",
       "      <td>1</td>\n",
       "      <td>married</td>\n",
       "    </tr>\n",
       "    <tr>\n",
       "      <th>3</th>\n",
       "      <td>4</td>\n",
       "      <td>4</td>\n",
       "      <td>173</td>\n",
       "      <td>39</td>\n",
       "      <td>10.0</td>\n",
       "      <td>15000</td>\n",
       "      <td>1904</td>\n",
       "      <td>2</td>\n",
       "      <td>married</td>\n",
       "    </tr>\n",
       "    <tr>\n",
       "      <th>4</th>\n",
       "      <td>5</td>\n",
       "      <td>5</td>\n",
       "      <td>2</td>\n",
       "      <td>47</td>\n",
       "      <td>9.0</td>\n",
       "      <td>6500</td>\n",
       "      <td>1683</td>\n",
       "      <td>5</td>\n",
       "      <td>married</td>\n",
       "    </tr>\n",
       "    <tr>\n",
       "      <th>...</th>\n",
       "      <td>...</td>\n",
       "      <td>...</td>\n",
       "      <td>...</td>\n",
       "      <td>...</td>\n",
       "      <td>...</td>\n",
       "      <td>...</td>\n",
       "      <td>...</td>\n",
       "      <td>...</td>\n",
       "      <td>...</td>\n",
       "    </tr>\n",
       "    <tr>\n",
       "      <th>4851</th>\n",
       "      <td>4852</td>\n",
       "      <td>9297</td>\n",
       "      <td>2</td>\n",
       "      <td>42</td>\n",
       "      <td>2.0</td>\n",
       "      <td>3000</td>\n",
       "      <td>1040</td>\n",
       "      <td>4</td>\n",
       "      <td>married</td>\n",
       "    </tr>\n",
       "    <tr>\n",
       "      <th>4852</th>\n",
       "      <td>4853</td>\n",
       "      <td>9301</td>\n",
       "      <td>2</td>\n",
       "      <td>43</td>\n",
       "      <td>12.0</td>\n",
       "      <td>0</td>\n",
       "      <td>0</td>\n",
       "      <td>2</td>\n",
       "      <td>married</td>\n",
       "    </tr>\n",
       "    <tr>\n",
       "      <th>4853</th>\n",
       "      <td>4854</td>\n",
       "      <td>9302</td>\n",
       "      <td>1</td>\n",
       "      <td>37</td>\n",
       "      <td>8.0</td>\n",
       "      <td>22045</td>\n",
       "      <td>2793</td>\n",
       "      <td>98</td>\n",
       "      <td>divorced</td>\n",
       "    </tr>\n",
       "    <tr>\n",
       "      <th>4854</th>\n",
       "      <td>4855</td>\n",
       "      <td>9305</td>\n",
       "      <td>2</td>\n",
       "      <td>40</td>\n",
       "      <td>6.0</td>\n",
       "      <td>134</td>\n",
       "      <td>30</td>\n",
       "      <td>3</td>\n",
       "      <td>married</td>\n",
       "    </tr>\n",
       "    <tr>\n",
       "      <th>4855</th>\n",
       "      <td>4856</td>\n",
       "      <td>9306</td>\n",
       "      <td>2</td>\n",
       "      <td>37</td>\n",
       "      <td>17.0</td>\n",
       "      <td>33000</td>\n",
       "      <td>2423</td>\n",
       "      <td>4</td>\n",
       "      <td>married</td>\n",
       "    </tr>\n",
       "  </tbody>\n",
       "</table>\n",
       "<p>4856 rows × 9 columns</p>\n",
       "</div>"
      ],
      "text/plain": [
       "      Seq No  intnum  persnum  age  educatn  earnings  hours  kids   married\n",
       "0          1       4        4   39     12.0     77250   2940     2   married\n",
       "1          2       4        6   35     12.0     12000   2040     2  divorced\n",
       "2          3       4        7   33     12.0      8000    693     1   married\n",
       "3          4       4      173   39     10.0     15000   1904     2   married\n",
       "4          5       5        2   47      9.0      6500   1683     5   married\n",
       "...      ...     ...      ...  ...      ...       ...    ...   ...       ...\n",
       "4851    4852    9297        2   42      2.0      3000   1040     4   married\n",
       "4852    4853    9301        2   43     12.0         0      0     2   married\n",
       "4853    4854    9302        1   37      8.0     22045   2793    98  divorced\n",
       "4854    4855    9305        2   40      6.0       134     30     3   married\n",
       "4855    4856    9306        2   37     17.0     33000   2423     4   married\n",
       "\n",
       "[4856 rows x 9 columns]"
      ]
     },
     "execution_count": 2,
     "metadata": {},
     "output_type": "execute_result"
    }
   ],
   "source": [
    "df= pd.read_csv('PSID.csv')\n",
    "df"
   ]
  },
  {
   "cell_type": "code",
   "execution_count": 3,
   "id": "2f2c1cad",
   "metadata": {},
   "outputs": [
    {
     "name": "stdout",
     "output_type": "stream",
     "text": [
      "<class 'pandas.core.frame.DataFrame'>\n",
      "RangeIndex: 4856 entries, 0 to 4855\n",
      "Data columns (total 9 columns):\n",
      " #   Column    Non-Null Count  Dtype  \n",
      "---  ------    --------------  -----  \n",
      " 0   Seq No    4856 non-null   int64  \n",
      " 1   intnum    4856 non-null   int64  \n",
      " 2   persnum   4856 non-null   int64  \n",
      " 3   age       4856 non-null   int64  \n",
      " 4   educatn   4855 non-null   float64\n",
      " 5   earnings  4856 non-null   int64  \n",
      " 6   hours     4856 non-null   int64  \n",
      " 7   kids      4856 non-null   int64  \n",
      " 8   married   4856 non-null   object \n",
      "dtypes: float64(1), int64(7), object(1)\n",
      "memory usage: 341.6+ KB\n"
     ]
    }
   ],
   "source": [
    "df.info()"
   ]
  },
  {
   "cell_type": "code",
   "execution_count": 4,
   "id": "cfbc75c6",
   "metadata": {
    "scrolled": true
   },
   "outputs": [
    {
     "data": {
      "text/html": [
       "<div>\n",
       "<style scoped>\n",
       "    .dataframe tbody tr th:only-of-type {\n",
       "        vertical-align: middle;\n",
       "    }\n",
       "\n",
       "    .dataframe tbody tr th {\n",
       "        vertical-align: top;\n",
       "    }\n",
       "\n",
       "    .dataframe thead th {\n",
       "        text-align: right;\n",
       "    }\n",
       "</style>\n",
       "<table border=\"1\" class=\"dataframe\">\n",
       "  <thead>\n",
       "    <tr style=\"text-align: right;\">\n",
       "      <th></th>\n",
       "      <th>Seq No</th>\n",
       "      <th>intnum</th>\n",
       "      <th>persnum</th>\n",
       "      <th>age</th>\n",
       "      <th>educatn</th>\n",
       "      <th>earnings</th>\n",
       "      <th>hours</th>\n",
       "      <th>kids</th>\n",
       "    </tr>\n",
       "  </thead>\n",
       "  <tbody>\n",
       "    <tr>\n",
       "      <th>count</th>\n",
       "      <td>4856.000000</td>\n",
       "      <td>4856.000000</td>\n",
       "      <td>4856.000000</td>\n",
       "      <td>4856.000000</td>\n",
       "      <td>4855.000000</td>\n",
       "      <td>4856.000000</td>\n",
       "      <td>4856.000000</td>\n",
       "      <td>4856.000000</td>\n",
       "    </tr>\n",
       "    <tr>\n",
       "      <th>mean</th>\n",
       "      <td>2428.500000</td>\n",
       "      <td>4598.101318</td>\n",
       "      <td>59.213550</td>\n",
       "      <td>38.462932</td>\n",
       "      <td>16.377137</td>\n",
       "      <td>14244.506178</td>\n",
       "      <td>1235.334843</td>\n",
       "      <td>4.481260</td>\n",
       "    </tr>\n",
       "    <tr>\n",
       "      <th>std</th>\n",
       "      <td>1401.950784</td>\n",
       "      <td>2761.971174</td>\n",
       "      <td>79.748556</td>\n",
       "      <td>5.595116</td>\n",
       "      <td>18.449502</td>\n",
       "      <td>15985.447449</td>\n",
       "      <td>947.175837</td>\n",
       "      <td>14.887856</td>\n",
       "    </tr>\n",
       "    <tr>\n",
       "      <th>min</th>\n",
       "      <td>1.000000</td>\n",
       "      <td>4.000000</td>\n",
       "      <td>1.000000</td>\n",
       "      <td>30.000000</td>\n",
       "      <td>0.000000</td>\n",
       "      <td>0.000000</td>\n",
       "      <td>0.000000</td>\n",
       "      <td>0.000000</td>\n",
       "    </tr>\n",
       "    <tr>\n",
       "      <th>25%</th>\n",
       "      <td>1214.750000</td>\n",
       "      <td>1905.000000</td>\n",
       "      <td>2.000000</td>\n",
       "      <td>34.000000</td>\n",
       "      <td>12.000000</td>\n",
       "      <td>85.000000</td>\n",
       "      <td>32.000000</td>\n",
       "      <td>1.000000</td>\n",
       "    </tr>\n",
       "    <tr>\n",
       "      <th>50%</th>\n",
       "      <td>2428.500000</td>\n",
       "      <td>5464.000000</td>\n",
       "      <td>4.000000</td>\n",
       "      <td>38.000000</td>\n",
       "      <td>12.000000</td>\n",
       "      <td>11000.000000</td>\n",
       "      <td>1517.000000</td>\n",
       "      <td>2.000000</td>\n",
       "    </tr>\n",
       "    <tr>\n",
       "      <th>75%</th>\n",
       "      <td>3642.250000</td>\n",
       "      <td>6655.000000</td>\n",
       "      <td>170.000000</td>\n",
       "      <td>43.000000</td>\n",
       "      <td>14.000000</td>\n",
       "      <td>22000.000000</td>\n",
       "      <td>2000.000000</td>\n",
       "      <td>3.000000</td>\n",
       "    </tr>\n",
       "    <tr>\n",
       "      <th>max</th>\n",
       "      <td>4856.000000</td>\n",
       "      <td>9306.000000</td>\n",
       "      <td>205.000000</td>\n",
       "      <td>50.000000</td>\n",
       "      <td>99.000000</td>\n",
       "      <td>240000.000000</td>\n",
       "      <td>5160.000000</td>\n",
       "      <td>99.000000</td>\n",
       "    </tr>\n",
       "  </tbody>\n",
       "</table>\n",
       "</div>"
      ],
      "text/plain": [
       "            Seq No       intnum      persnum          age      educatn  \\\n",
       "count  4856.000000  4856.000000  4856.000000  4856.000000  4855.000000   \n",
       "mean   2428.500000  4598.101318    59.213550    38.462932    16.377137   \n",
       "std    1401.950784  2761.971174    79.748556     5.595116    18.449502   \n",
       "min       1.000000     4.000000     1.000000    30.000000     0.000000   \n",
       "25%    1214.750000  1905.000000     2.000000    34.000000    12.000000   \n",
       "50%    2428.500000  5464.000000     4.000000    38.000000    12.000000   \n",
       "75%    3642.250000  6655.000000   170.000000    43.000000    14.000000   \n",
       "max    4856.000000  9306.000000   205.000000    50.000000    99.000000   \n",
       "\n",
       "            earnings        hours         kids  \n",
       "count    4856.000000  4856.000000  4856.000000  \n",
       "mean    14244.506178  1235.334843     4.481260  \n",
       "std     15985.447449   947.175837    14.887856  \n",
       "min         0.000000     0.000000     0.000000  \n",
       "25%        85.000000    32.000000     1.000000  \n",
       "50%     11000.000000  1517.000000     2.000000  \n",
       "75%     22000.000000  2000.000000     3.000000  \n",
       "max    240000.000000  5160.000000    99.000000  "
      ]
     },
     "execution_count": 4,
     "metadata": {},
     "output_type": "execute_result"
    }
   ],
   "source": [
    "df.describe()"
   ]
  },
  {
   "cell_type": "code",
   "execution_count": 5,
   "id": "6e2a6b3d",
   "metadata": {},
   "outputs": [
    {
     "data": {
      "text/plain": [
       "<AxesSubplot:>"
      ]
     },
     "execution_count": 5,
     "metadata": {},
     "output_type": "execute_result"
    },
    {
     "data": {
      "image/png": "[encoded data removed]",
      "text/plain": [
       "<Figure size 432x288 with 1 Axes>"
      ]
     },
     "metadata": {
      "needs_background": "light"
     },
     "output_type": "display_data"
    }
   ],
   "source": [
    "sns.boxplot(data = df )"
   ]
  },
  {
   "cell_type": "code",
   "execution_count": 6,
   "id": "f49027e6",
   "metadata": {},
   "outputs": [],
   "source": [
    "df.drop(labels = ['Seq No' , 'intnum' , 'persnum'] , axis = 1 , inplace = True)"
   ]
  },
  {
   "cell_type": "code",
   "execution_count": 7,
   "id": "45ff5a57",
   "metadata": {},
   "outputs": [
    {
     "data": {
      "text/html": [
       "<div>\n",
       "<style scoped>\n",
       "    .dataframe tbody tr th:only-of-type {\n",
       "        vertical-align: middle;\n",
       "    }\n",
       "\n",
       "    .dataframe tbody tr th {\n",
       "        vertical-align: top;\n",
       "    }\n",
       "\n",
       "    .dataframe thead th {\n",
       "        text-align: right;\n",
       "    }\n",
       "</style>\n",
       "<table border=\"1\" class=\"dataframe\">\n",
       "  <thead>\n",
       "    <tr style=\"text-align: right;\">\n",
       "      <th></th>\n",
       "      <th>age</th>\n",
       "      <th>educatn</th>\n",
       "      <th>earnings</th>\n",
       "      <th>hours</th>\n",
       "      <th>kids</th>\n",
       "      <th>married</th>\n",
       "    </tr>\n",
       "  </thead>\n",
       "  <tbody>\n",
       "    <tr>\n",
       "      <th>0</th>\n",
       "      <td>39</td>\n",
       "      <td>12.0</td>\n",
       "      <td>77250</td>\n",
       "      <td>2940</td>\n",
       "      <td>2</td>\n",
       "      <td>married</td>\n",
       "    </tr>\n",
       "    <tr>\n",
       "      <th>1</th>\n",
       "      <td>35</td>\n",
       "      <td>12.0</td>\n",
       "      <td>12000</td>\n",
       "      <td>2040</td>\n",
       "      <td>2</td>\n",
       "      <td>divorced</td>\n",
       "    </tr>\n",
       "    <tr>\n",
       "      <th>2</th>\n",
       "      <td>33</td>\n",
       "      <td>12.0</td>\n",
       "      <td>8000</td>\n",
       "      <td>693</td>\n",
       "      <td>1</td>\n",
       "      <td>married</td>\n",
       "    </tr>\n",
       "    <tr>\n",
       "      <th>3</th>\n",
       "      <td>39</td>\n",
       "      <td>10.0</td>\n",
       "      <td>15000</td>\n",
       "      <td>1904</td>\n",
       "      <td>2</td>\n",
       "      <td>married</td>\n",
       "    </tr>\n",
       "    <tr>\n",
       "      <th>4</th>\n",
       "      <td>47</td>\n",
       "      <td>9.0</td>\n",
       "      <td>6500</td>\n",
       "      <td>1683</td>\n",
       "      <td>5</td>\n",
       "      <td>married</td>\n",
       "    </tr>\n",
       "    <tr>\n",
       "      <th>...</th>\n",
       "      <td>...</td>\n",
       "      <td>...</td>\n",
       "      <td>...</td>\n",
       "      <td>...</td>\n",
       "      <td>...</td>\n",
       "      <td>...</td>\n",
       "    </tr>\n",
       "    <tr>\n",
       "      <th>4851</th>\n",
       "      <td>42</td>\n",
       "      <td>2.0</td>\n",
       "      <td>3000</td>\n",
       "      <td>1040</td>\n",
       "      <td>4</td>\n",
       "      <td>married</td>\n",
       "    </tr>\n",
       "    <tr>\n",
       "      <th>4852</th>\n",
       "      <td>43</td>\n",
       "      <td>12.0</td>\n",
       "      <td>0</td>\n",
       "      <td>0</td>\n",
       "      <td>2</td>\n",
       "      <td>married</td>\n",
       "    </tr>\n",
       "    <tr>\n",
       "      <th>4853</th>\n",
       "      <td>37</td>\n",
       "      <td>8.0</td>\n",
       "      <td>22045</td>\n",
       "      <td>2793</td>\n",
       "      <td>98</td>\n",
       "      <td>divorced</td>\n",
       "    </tr>\n",
       "    <tr>\n",
       "      <th>4854</th>\n",
       "      <td>40</td>\n",
       "      <td>6.0</td>\n",
       "      <td>134</td>\n",
       "      <td>30</td>\n",
       "      <td>3</td>\n",
       "      <td>married</td>\n",
       "    </tr>\n",
       "    <tr>\n",
       "      <th>4855</th>\n",
       "      <td>37</td>\n",
       "      <td>17.0</td>\n",
       "      <td>33000</td>\n",
       "      <td>2423</td>\n",
       "      <td>4</td>\n",
       "      <td>married</td>\n",
       "    </tr>\n",
       "  </tbody>\n",
       "</table>\n",
       "<p>4856 rows × 6 columns</p>\n",
       "</div>"
      ],
      "text/plain": [
       "      age  educatn  earnings  hours  kids   married\n",
       "0      39     12.0     77250   2940     2   married\n",
       "1      35     12.0     12000   2040     2  divorced\n",
       "2      33     12.0      8000    693     1   married\n",
       "3      39     10.0     15000   1904     2   married\n",
       "4      47      9.0      6500   1683     5   married\n",
       "...   ...      ...       ...    ...   ...       ...\n",
       "4851   42      2.0      3000   1040     4   married\n",
       "4852   43     12.0         0      0     2   married\n",
       "4853   37      8.0     22045   2793    98  divorced\n",
       "4854   40      6.0       134     30     3   married\n",
       "4855   37     17.0     33000   2423     4   married\n",
       "\n",
       "[4856 rows x 6 columns]"
      ]
     },
     "execution_count": 7,
     "metadata": {},
     "output_type": "execute_result"
    }
   ],
   "source": [
    "df"
   ]
  },
  {
   "cell_type": "code",
   "execution_count": 8,
   "id": "5cf74507",
   "metadata": {},
   "outputs": [],
   "source": [
    "ear = df.earnings.quantile(0.98)\n"
   ]
  },
  {
   "cell_type": "code",
   "execution_count": 9,
   "id": "f39fb579",
   "metadata": {},
   "outputs": [
    {
     "data": {
      "text/plain": [
       "52878.89999999985"
      ]
     },
     "execution_count": 9,
     "metadata": {},
     "output_type": "execute_result"
    }
   ],
   "source": [
    "ear"
   ]
  },
  {
   "cell_type": "code",
   "execution_count": 10,
   "id": "ced4e31a",
   "metadata": {},
   "outputs": [],
   "source": [
    "df_nan_out = df[df.earnings < 53000.0 ]\n"
   ]
  },
  {
   "cell_type": "code",
   "execution_count": 11,
   "id": "20bf69ca",
   "metadata": {},
   "outputs": [
    {
     "data": {
      "text/plain": [
       "<AxesSubplot:xlabel='earnings'>"
      ]
     },
     "execution_count": 11,
     "metadata": {},
     "output_type": "execute_result"
    },
    {
     "data": {
      "image/png": "[encoded data removed]",
      "text/plain": [
       "<Figure size 432x288 with 1 Axes>"
      ]
     },
     "metadata": {
      "needs_background": "light"
     },
     "output_type": "display_data"
    }
   ],
   "source": [
    "sns.boxplot(data = df_nan_out , x = 'earnings')"
   ]
  },
  {
   "cell_type": "code",
   "execution_count": 12,
   "id": "7163052e",
   "metadata": {},
   "outputs": [],
   "source": [
    "df = df_nan_out\n"
   ]
  },
  {
   "cell_type": "code",
   "execution_count": 13,
   "id": "5f3eb9c4",
   "metadata": {},
   "outputs": [
    {
     "data": {
      "text/plain": [
       "<AxesSubplot:xlabel='hours'>"
      ]
     },
     "execution_count": 13,
     "metadata": {},
     "output_type": "execute_result"
    },
    {
     "data": {
      "image/png": "[encoded data removed]",
      "text/plain": [
       "<Figure size 432x288 with 1 Axes>"
      ]
     },
     "metadata": {
      "needs_background": "light"
     },
     "output_type": "display_data"
    }
   ],
   "source": [
    "sns.boxplot(data = df , x  ='hours')"
   ]
  },
  {
   "cell_type": "code",
   "execution_count": 14,
   "id": "887a50ba",
   "metadata": {},
   "outputs": [
    {
     "data": {
      "text/plain": [
       "4940.0"
      ]
     },
     "execution_count": 14,
     "metadata": {},
     "output_type": "execute_result"
    }
   ],
   "source": [
    "hr = df.hours.quantile(0.9994)\n",
    "hr"
   ]
  },
  {
   "cell_type": "code",
   "execution_count": 15,
   "id": "56a6077f",
   "metadata": {},
   "outputs": [],
   "source": [
    "df = df[df.hours < 4550]"
   ]
  },
  {
   "cell_type": "code",
   "execution_count": 16,
   "id": "4c81c3ed",
   "metadata": {},
   "outputs": [
    {
     "data": {
      "text/plain": [
       "<AxesSubplot:xlabel='hours'>"
      ]
     },
     "execution_count": 16,
     "metadata": {},
     "output_type": "execute_result"
    },
    {
     "data": {
      "image/png": "[encoded data removed]",
      "text/plain": [
       "<Figure size 432x288 with 1 Axes>"
      ]
     },
     "metadata": {
      "needs_background": "light"
     },
     "output_type": "display_data"
    }
   ],
   "source": [
    "sns.boxplot(data = df , x  ='hours')"
   ]
  },
  {
   "cell_type": "code",
   "execution_count": 17,
   "id": "b0fdc0f5",
   "metadata": {},
   "outputs": [
    {
     "data": {
      "text/plain": [
       "98.0"
      ]
     },
     "execution_count": 17,
     "metadata": {},
     "output_type": "execute_result"
    }
   ],
   "source": [
    "kid = df.kids.quantile(0.99)\n",
    "kid"
   ]
  },
  {
   "cell_type": "code",
   "execution_count": 18,
   "id": "f27c594e",
   "metadata": {},
   "outputs": [],
   "source": [
    "df = df[df.kids < 6]"
   ]
  },
  {
   "cell_type": "code",
   "execution_count": 19,
   "id": "b7c473e9",
   "metadata": {},
   "outputs": [
    {
     "data": {
      "text/plain": [
       "<AxesSubplot:xlabel='kids'>"
      ]
     },
     "execution_count": 19,
     "metadata": {},
     "output_type": "execute_result"
    },
    {
     "data": {
      "image/png": "[encoded data removed]",
      "text/plain": [
       "<Figure size 432x288 with 1 Axes>"
      ]
     },
     "metadata": {
      "needs_background": "light"
     },
     "output_type": "display_data"
    }
   ],
   "source": [
    "sns.boxplot(data = df  , x = 'kids')"
   ]
  },
  {
   "cell_type": "code",
   "execution_count": 20,
   "id": "5864cf8c",
   "metadata": {},
   "outputs": [
    {
     "data": {
      "text/plain": [
       "<AxesSubplot:xlabel='educatn'>"
      ]
     },
     "execution_count": 20,
     "metadata": {},
     "output_type": "execute_result"
    },
    {
     "data": {
      "image/png": "[encoded data removed]",
      "text/plain": [
       "<Figure size 432x288 with 1 Axes>"
      ]
     },
     "metadata": {
      "needs_background": "light"
     },
     "output_type": "display_data"
    }
   ],
   "source": [
    "sns.boxplot(data = df ,  x = 'educatn')"
   ]
  },
  {
   "cell_type": "code",
   "execution_count": 21,
   "id": "558775c6",
   "metadata": {},
   "outputs": [
    {
     "data": {
      "text/plain": [
       "17.0"
      ]
     },
     "execution_count": 21,
     "metadata": {},
     "output_type": "execute_result"
    }
   ],
   "source": [
    "edu = df.educatn.quantile(0.955)\n",
    "edu"
   ]
  },
  {
   "cell_type": "code",
   "execution_count": 22,
   "id": "893e97d2",
   "metadata": {},
   "outputs": [
    {
     "data": {
      "text/plain": [
       "11.0"
      ]
     },
     "execution_count": 22,
     "metadata": {},
     "output_type": "execute_result"
    }
   ],
   "source": [
    "edu_low = df.educatn.quantile(0.17)\n",
    "edu_low"
   ]
  },
  {
   "cell_type": "code",
   "execution_count": 23,
   "id": "996d5cfa",
   "metadata": {},
   "outputs": [],
   "source": [
    "df = df[(df.educatn < 17) & (df.educatn > 11)]"
   ]
  },
  {
   "cell_type": "code",
   "execution_count": 24,
   "id": "e790ceac",
   "metadata": {},
   "outputs": [
    {
     "data": {
      "text/plain": [
       "<AxesSubplot:xlabel='educatn'>"
      ]
     },
     "execution_count": 24,
     "metadata": {},
     "output_type": "execute_result"
    },
    {
     "data": {
      "image/png": "[encoded data removed]",
      "text/plain": [
       "<Figure size 432x288 with 1 Axes>"
      ]
     },
     "metadata": {
      "needs_background": "light"
     },
     "output_type": "display_data"
    }
   ],
   "source": [
    "sns.boxplot(data = df ,  x = 'educatn')"
   ]
  },
  {
   "cell_type": "code",
   "execution_count": 25,
   "id": "5e221c8b",
   "metadata": {},
   "outputs": [
    {
     "data": {
      "text/plain": [
       "(3287, 6)"
      ]
     },
     "execution_count": 25,
     "metadata": {},
     "output_type": "execute_result"
    }
   ],
   "source": [
    "df.shape"
   ]
  },
  {
   "cell_type": "code",
   "execution_count": 26,
   "id": "1cf2b852",
   "metadata": {},
   "outputs": [
    {
     "data": {
      "text/plain": [
       "<AxesSubplot:>"
      ]
     },
     "execution_count": 26,
     "metadata": {},
     "output_type": "execute_result"
    },
    {
     "data": {
      "image/png": "[encoded data removed]",
      "text/plain": [
       "<Figure size 432x288 with 1 Axes>"
      ]
     },
     "metadata": {
      "needs_background": "light"
     },
     "output_type": "display_data"
    }
   ],
   "source": [
    "sns.boxplot(data= df)"
   ]
  },
  {
   "cell_type": "markdown",
   "id": "4136fff0",
   "metadata": {},
   "source": [
    "Correlation between earnings and hours"
   ]
  },
  {
   "cell_type": "code",
   "execution_count": 27,
   "id": "0d9939d3",
   "metadata": {},
   "outputs": [
    {
     "data": {
      "text/plain": [
       "<AxesSubplot:xlabel='hours', ylabel='earnings'>"
      ]
     },
     "execution_count": 27,
     "metadata": {},
     "output_type": "execute_result"
    },
    {
     "data": {
      "image/png": "[encoded data removed]",
      "text/plain": [
       "<Figure size 432x288 with 1 Axes>"
      ]
     },
     "metadata": {
      "needs_background": "light"
     },
     "output_type": "display_data"
    }
   ],
   "source": [
    "sns.scatterplot(data= df , x = 'hours' , y = 'earnings'  )"
   ]
  },
  {
   "cell_type": "markdown",
   "id": "80368bb7",
   "metadata": {},
   "source": [
    "#There are no correlation"
   ]
  },
  {
   "cell_type": "code",
   "execution_count": 28,
   "id": "26dff6f2",
   "metadata": {},
   "outputs": [],
   "source": [
    "df.fillna(value = df['educatn'].mean() , inplace = True )"
   ]
  },
  {
   "cell_type": "code",
   "execution_count": 29,
   "id": "8d0690bb",
   "metadata": {},
   "outputs": [
    {
     "name": "stdout",
     "output_type": "stream",
     "text": [
      "<class 'pandas.core.frame.DataFrame'>\n",
      "Int64Index: 3287 entries, 1 to 4852\n",
      "Data columns (total 6 columns):\n",
      " #   Column    Non-Null Count  Dtype  \n",
      "---  ------    --------------  -----  \n",
      " 0   age       3287 non-null   int64  \n",
      " 1   educatn   3287 non-null   float64\n",
      " 2   earnings  3287 non-null   int64  \n",
      " 3   hours     3287 non-null   int64  \n",
      " 4   kids      3287 non-null   int64  \n",
      " 5   married   3287 non-null   object \n",
      "dtypes: float64(1), int64(4), object(1)\n",
      "memory usage: 179.8+ KB\n"
     ]
    }
   ],
   "source": [
    "df.info()"
   ]
  },
  {
   "cell_type": "code",
   "execution_count": 31,
   "id": "3ed0882f",
   "metadata": {},
   "outputs": [
    {
     "data": {
      "text/plain": [
       "<AxesSubplot:>"
      ]
     },
     "execution_count": 31,
     "metadata": {},
     "output_type": "execute_result"
    },
    {
     "data": {
      "image/png": "[encoded data removed]",
      "text/plain": [
       "<Figure size 432x288 with 2 Axes>"
      ]
     },
     "metadata": {
      "needs_background": "light"
     },
     "output_type": "display_data"
    }
   ],
   "source": [
    "sns.heatmap(df.corr() , annot = True  )"
   ]
  },
  {
   "cell_type": "code",
   "execution_count": null,
   "id": "1d553315",
   "metadata": {},
   "outputs": [],
   "source": []
  },
  {
   "cell_type": "code",
   "execution_count": null,
   "id": "7781194c",
   "metadata": {},
   "outputs": [],
   "source": []
  },
  {
   "cell_type": "code",
   "execution_count": null,
   "id": "9d6e561a",
   "metadata": {},
   "outputs": [],
   "source": []
  },
  {
   "cell_type": "code",
   "execution_count": null,
   "id": "1dd4c00e",
   "metadata": {},
   "outputs": [],
   "source": []
  },
  {
   "cell_type": "code",
   "execution_count": null,
   "id": "56907971",
   "metadata": {},
   "outputs": [],
   "source": []
  },
  {
   "cell_type": "code",
   "execution_count": null,
   "id": "4c7f6a33",
   "metadata": {},
   "outputs": [],
   "source": []
  },
  {
   "cell_type": "code",
   "execution_count": null,
   "id": "633ff0e1",
   "metadata": {},
   "outputs": [],
   "source": []
  },
  {
   "cell_type": "code",
   "execution_count": null,
   "id": "d44cc6bd",
   "metadata": {},
   "outputs": [],
   "source": []
  }
 ],
 "metadata": {
  "kernelspec": {
   "display_name": "Python 3 (ipykernel)",
   "language": "python",
   "name": "python3"
  },
  "language_info": {
   "codemirror_mode": {
    "name": "ipython",
    "version": 3
   },
   "file_extension": ".py",
   "mimetype": "text/x-python",
   "name": "python",
   "nbconvert_exporter": "python",
   "pygments_lexer": "ipython3",
   "version": "3.9.7"
  }
 },
 "nbformat": 4,
 "nbformat_minor": 5
}
